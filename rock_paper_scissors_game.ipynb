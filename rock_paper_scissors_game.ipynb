{
  "nbformat": 4,
  "nbformat_minor": 0,
  "metadata": {
    "colab": {
      "provenance": [],
      "include_colab_link": true
    },
    "kernelspec": {
      "name": "python3",
      "display_name": "Python 3"
    },
    "language_info": {
      "name": "python"
    }
  },
  "cells": [
    {
      "cell_type": "markdown",
      "metadata": {
        "id": "view-in-github",
        "colab_type": "text"
      },
      "source": [
        "<a href=\"https://colab.research.google.com/github/Zidansky666/100-Days-Python/blob/main/rock_paper_scissors_game.ipynb\" target=\"_parent\"><img src=\"https://colab.research.google.com/assets/colab-badge.svg\" alt=\"Open In Colab\"/></a>"
      ]
    },
    {
      "cell_type": "code",
      "execution_count": 3,
      "metadata": {
        "id": "y5I182lLNSkh",
        "colab": {
          "base_uri": "https://localhost:8080/"
        },
        "outputId": "7d358ae3-0343-4d40-e21d-bb32a4d69409"
      },
      "outputs": [
        {
          "output_type": "stream",
          "name": "stdout",
          "text": [
            "Enter your choice (rock, paper, or scissors): fd\n",
            "Computer selected:\n",
            "\n",
            "    _______\n",
            "---'   ____)\n",
            "      (_____)\n",
            "      (_____)\n",
            "      (____)\n",
            "---.__(___)\n",
            "\n",
            "Invalid choice. Please enter 'rock', 'paper', or 'scissors'.\n"
          ]
        }
      ],
      "source": [
        "rock = '''\n",
        "    _______\n",
        "---'   ____)\n",
        "      (_____)\n",
        "      (_____)\n",
        "      (____)\n",
        "---.__(___)\n",
        "'''\n",
        "\n",
        "paper = '''\n",
        "    _______\n",
        "---'   ____)____\n",
        "          ______)\n",
        "          _______)\n",
        "         _______)\n",
        "---.__________)\n",
        "'''\n",
        "\n",
        "scissors = '''\n",
        "    _______\n",
        "---'   ____)____\n",
        "          ______)\n",
        "       __________)\n",
        "      (____)\n",
        "---.__(___)\n",
        "'''\n",
        "\n",
        "#Write your code below this line 👇\n",
        "import random\n",
        "computer_choices = [rock, paper, scissors]\n",
        "\n",
        "computer_choice = random.choice(computer_choices)\n",
        "\n",
        "user_choice = input(\"Enter your choice (rock, paper, or scissors): \").lower()\n",
        "\n",
        "print(\"Computer selected:\")\n",
        "print(computer_choice)\n",
        "\n",
        "if user_choice == \"rock\" or user_choice == \"paper\" or user_choice == \"scissors\":\n",
        "    if user_choice == \"rock\":\n",
        "        if computer_choice == scissors:\n",
        "            print(\"You win! Congratulations.\")\n",
        "        elif computer_choice == paper:\n",
        "            print(\"You lose. Computer wins!\")\n",
        "        else:\n",
        "            print(\"It's a draw. Try again!\")\n",
        "    elif user_choice == \"paper\":\n",
        "        if computer_choice == rock:\n",
        "            print(\"You win! Congratulations.\")\n",
        "        elif computer_choice == scissors:\n",
        "            print(\"You lose. Try again!\")\n",
        "        else:\n",
        "            print(\"It's a draw. Try again!\")\n",
        "    elif user_choice == \"scissors\":\n",
        "        if computer_choice == paper:\n",
        "            print(\"You win! Congratulations.\")\n",
        "        elif computer_choice == rock:\n",
        "            print(\"You lose. Try again!\")\n",
        "        else:\n",
        "            print(\"It's a draw. Try again!\")\n",
        "else:\n",
        "    print(\"Invalid choice. Please enter 'rock', 'paper', or 'scissors'.\")"
      ]
    },
    {
      "cell_type": "code",
      "source": [],
      "metadata": {
        "id": "2L5TxwX2WKTQ"
      },
      "execution_count": null,
      "outputs": []
    }
  ]
}