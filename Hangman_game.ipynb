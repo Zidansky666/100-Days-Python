{
  "cells": [
    {
      "cell_type": "markdown",
      "metadata": {
        "id": "view-in-github",
        "colab_type": "text"
      },
      "source": [
        "<a href=\"https://colab.research.google.com/github/Zidansky666/100-Days-Python/blob/main/Hangman_game.ipynb\" target=\"_parent\"><img src=\"https://colab.research.google.com/assets/colab-badge.svg\" alt=\"Open In Colab\"/></a>"
      ]
    },
    {
      "cell_type": "code",
      "execution_count": null,
      "metadata": {
        "colab": {
          "base_uri": "https://localhost:8080/"
        },
        "id": "VWDZ-D7cFb7x",
        "outputId": "dab6cb08-a46e-4684-d3e8-d1b7a1c4e53d"
      },
      "outputs": [
        {
          "name": "stdout",
          "output_type": "stream",
          "text": [
            "Guess the word: b\n",
            "Right\n",
            "Wrong\n",
            "Right\n",
            "Wrong\n",
            "Wrong\n",
            "Wrong\n"
          ]
        }
      ],
      "source": [
        "import random\n",
        "animals = [\"ardvark\",\"baboon\", \"anjing\"]\n",
        "chosen_word = random.choice(animals)\n",
        "\n",
        "guess = input('Guess the letter: ').lower()\n",
        "\n",
        "\n",
        "for letter in chosen_word:\n",
        "    if letter == guess:\n",
        "        print('Right')\n",
        "    else:\n",
        "        print('Wrong')\n"
      ]
    },
    {
      "cell_type": "code",
      "execution_count": null,
      "metadata": {
        "colab": {
          "background_save": true,
          "base_uri": "https://localhost:8080/"
        },
        "id": "eGhPSWbaF06M",
        "outputId": "df580750-90eb-461a-b97a-8d92b80b69e7"
      },
      "outputs": [
        {
          "name": "stdout",
          "output_type": "stream",
          "text": [
            "Selamat datang ditebak tebakan nama hewan\n",
            "Clue: Hewan besar berbelalai\n",
            "_ _ _ _ _\n",
            "Incorrect guess. 4 attempts left.\n",
            "_ _ _ _ _\n"
          ]
        }
      ],
      "source": [
        "import random\n",
        "\n",
        "animals = ['sapi', 'ayam', 'keledai', 'tapir', 'gajah']\n",
        "selected_one = random.choice(animals)\n",
        "clues = {\n",
        "    'sapi': 'Makan rumput dan suaranya moooo',\n",
        "    'ayam': 'Berkokok di pagi hari dan suka petok petok',\n",
        "    'keledai': 'Memiliki telinga besar dan dikenal di film shreek',\n",
        "    'tapir': 'Mirip dengan badak dan gajah tapi versi mungil',\n",
        "    'gajah': 'Hewan besar berbelalai'\n",
        "}\n",
        "\n",
        "# Shuffle the selected word\n",
        "selected_one_list = list(selected_one)\n",
        "random.shuffle(selected_one_list)\n",
        "shuffled_word = ''.join(selected_one_list)\n",
        "\n",
        "blank = [\"_\"] * len(selected_one)\n",
        "attempts = len(selected_one)\n",
        "\n",
        "print('Selamat datang ditebak tebakan nama hewan')\n",
        "print(\"Clue:\", clues[selected_one])\n",
        "\n",
        "while \"_\" in blank and attempts > 0:\n",
        "    print(\" \".join(blank))\n",
        "    guess = input('Guess a letter: ').lower()\n",
        "\n",
        "    if len(guess) == 1 and guess.isalpha():\n",
        "        if guess in selected_one:\n",
        "            for i in range(len(selected_one)):\n",
        "                if selected_one[i] == guess:\n",
        "                    blank[i] = guess\n",
        "        else:\n",
        "            attempts -= 1\n",
        "            print(f'Incorrect guess. {attempts} attempts left.')\n",
        "    else:\n",
        "        print('Please enter a valid single letter.')\n",
        "\n",
        "if \"_\" not in blank:\n",
        "    print(f'Congratulations! You guessed the word: {selected_one}')\n",
        "else:\n",
        "    print(f'Out of attempts. The word was: {selected_one}')\n"
      ]
    },
    {
      "cell_type": "code",
      "execution_count": null,
      "metadata": {
        "id": "FTKJ5inuGKQ6"
      },
      "outputs": [],
      "source": [
        "import random\n",
        "\n",
        "animals = ['cow', 'chicken', 'donkey', 'tapir', 'elephant']\n",
        "selected_one = random.choice(animals)\n",
        "clues = {\n",
        "    'cow': 'Eats grass and says \"moo\"',\n",
        "    'chicken': 'Crows in the morning and clucks',\n",
        "    'donkey': 'Has big ears and known in the movie Shrek',\n",
        "    'tapir': 'Resembles a small version of rhinoceros and elephant',\n",
        "    'elephant': 'A large animal with a trunk'\n",
        "}\n",
        "\n",
        "print('Welcome to guess the animal')\n",
        "print('This one clue is:', clues[selected_one])\n",
        "\n",
        "blank = [\"_\" for _ in range(len(selected_one))]\n",
        "print(blank)\n",
        "\n",
        "End_of_the_line = False\n",
        "while \"_\" in blank and not End_of_the_line:\n",
        "    guess = input('Guess a letter: ').lower()\n",
        "\n",
        "    if guess in selected_one:\n",
        "        for i in range(len(selected_one)):\n",
        "            letter = selected_one[i]\n",
        "            if letter == guess:\n",
        "                blank[i] = letter\n",
        "        print(blank)\n",
        "\n",
        "if \"_\" not in blank:\n",
        "    End_of_the_line = True\n",
        "    print('You win')\n"
      ]
    },
    {
      "cell_type": "code",
      "source": [
        "import random\n",
        "\n",
        "stages = ['''\n",
        "  +---+\n",
        "  |   |\n",
        "  O   |\n",
        " /|\\  |\n",
        " / \\  |\n",
        "      |\n",
        "=========\n",
        "''', '''\n",
        "  +---+\n",
        "  |   |\n",
        "  O   |\n",
        " /|\\  |\n",
        " /    |\n",
        "      |\n",
        "=========\n",
        "''', '''\n",
        "  +---+\n",
        "  |   |\n",
        "  O   |\n",
        " /|\\  |\n",
        "      |\n",
        "      |\n",
        "=========\n",
        "''', '''\n",
        "  +---+\n",
        "  |   |\n",
        "  O   |\n",
        " /|   |\n",
        "      |\n",
        "      |\n",
        "=========''', '''\n",
        "  +---+\n",
        "  |   |\n",
        "  O   |\n",
        "  |   |\n",
        "      |\n",
        "      |\n",
        "=========\n",
        "''', '''\n",
        "  +---+\n",
        "  |   |\n",
        "  O   |\n",
        "      |\n",
        "      |\n",
        "      |\n",
        "=========\n",
        "''', '''\n",
        "  +---+\n",
        "  |   |\n",
        "      |\n",
        "      |\n",
        "      |\n",
        "      |\n",
        "=========\n",
        "''']\n",
        "\n",
        "end_of_game = False\n",
        "word_list = [\"ardvark\", \"baboon\", \"camel\"]\n",
        "chosen_word = random.choice(word_list)\n",
        "word_length = len(chosen_word)\n",
        "\n",
        "# TODO-1: - Create a variable called 'lives' to keep track of the number of lives left.\n",
        "# Set 'lives' to equal 6.\n",
        "lives = len(stages)\n",
        "print(lives)\n",
        "\n",
        "# Testing code\n",
        "print(f'Pssst, the solution is {chosen_word}.')\n",
        "\n",
        "# Create blanks\n",
        "display = []\n",
        "for _ in range(word_length):\n",
        "    display += \"_\"\n",
        "\n",
        "while not end_of_game:\n",
        "    guess = input(\"Guess a letter: \").lower()\n",
        "\n",
        "    # Check guessed letter\n",
        "    if len(guess) == 1 and guess.isalpha():\n",
        "        if guess in chosen_word:\n",
        "            for position in range(word_length):\n",
        "                letter = chosen_word[position]\n",
        "                if letter == guess:\n",
        "                    display[position] = letter\n",
        "        else:\n",
        "            # TODO-2: - If guess is not a letter in the chosen_word,\n",
        "            # Then reduce 'lives' by 1.\n",
        "            # If lives goes down to 0 then the game should stop and it should print \"You lose.\"\n",
        "            lives -= 1\n",
        "            if lives == 0:\n",
        "                end_of_game = True\n",
        "                print(\"You lose.\")\n",
        "            else:\n",
        "                print(f'Incorrect guess. {lives} attempts left.')\n",
        "    else:\n",
        "        print('Please enter a valid single letter.')\n",
        "\n",
        "    # Join all the elements in the list and turn it into a String.\n",
        "    print(f\"{' '.join(display)}\")\n",
        "\n",
        "    # Check if the user has guessed all letters.\n",
        "    if \"_\" not in display:\n",
        "        end_of_game = True\n",
        "        print(\"You win.\")\n",
        "    elif lives > 0:\n",
        "        print(stages[lives - 1])\n"
      ],
      "metadata": {
        "colab": {
          "base_uri": "https://localhost:8080/",
          "height": 633
        },
        "id": "nuK2C1_EExtR",
        "outputId": "01d4f7c7-00b0-4941-9f00-1b3dc0b69780"
      },
      "execution_count": 23,
      "outputs": [
        {
          "output_type": "stream",
          "name": "stdout",
          "text": [
            "7\n",
            "Pssst, the solution is baboon.\n",
            "Guess a letter: d\n",
            "Incorrect guess. 6 attempts left.\n",
            "_ _ _ _ _ _\n",
            "\n",
            "  +---+\n",
            "  |   |\n",
            "  O   |\n",
            "      |\n",
            "      |\n",
            "      |\n",
            "=========\n",
            "\n"
          ]
        },
        {
          "output_type": "error",
          "ename": "KeyboardInterrupt",
          "evalue": "ignored",
          "traceback": [
            "\u001b[0;31m---------------------------------------------------------------------------\u001b[0m",
            "\u001b[0;31mKeyboardInterrupt\u001b[0m                         Traceback (most recent call last)",
            "\u001b[0;32m<ipython-input-23-7adbe489595e>\u001b[0m in \u001b[0;36m<cell line: 78>\u001b[0;34m()\u001b[0m\n\u001b[1;32m     77\u001b[0m \u001b[0;34m\u001b[0m\u001b[0m\n\u001b[1;32m     78\u001b[0m \u001b[0;32mwhile\u001b[0m \u001b[0;32mnot\u001b[0m \u001b[0mend_of_game\u001b[0m\u001b[0;34m:\u001b[0m\u001b[0;34m\u001b[0m\u001b[0;34m\u001b[0m\u001b[0m\n\u001b[0;32m---> 79\u001b[0;31m     \u001b[0mguess\u001b[0m \u001b[0;34m=\u001b[0m \u001b[0minput\u001b[0m\u001b[0;34m(\u001b[0m\u001b[0;34m\"Guess a letter: \"\u001b[0m\u001b[0;34m)\u001b[0m\u001b[0;34m.\u001b[0m\u001b[0mlower\u001b[0m\u001b[0;34m(\u001b[0m\u001b[0;34m)\u001b[0m\u001b[0;34m\u001b[0m\u001b[0;34m\u001b[0m\u001b[0m\n\u001b[0m\u001b[1;32m     80\u001b[0m \u001b[0;34m\u001b[0m\u001b[0m\n\u001b[1;32m     81\u001b[0m     \u001b[0;31m# Check guessed letter\u001b[0m\u001b[0;34m\u001b[0m\u001b[0;34m\u001b[0m\u001b[0m\n",
            "\u001b[0;32m/usr/local/lib/python3.10/dist-packages/ipykernel/kernelbase.py\u001b[0m in \u001b[0;36mraw_input\u001b[0;34m(self, prompt)\u001b[0m\n\u001b[1;32m    849\u001b[0m                 \u001b[0;34m\"raw_input was called, but this frontend does not support input requests.\"\u001b[0m\u001b[0;34m\u001b[0m\u001b[0;34m\u001b[0m\u001b[0m\n\u001b[1;32m    850\u001b[0m             )\n\u001b[0;32m--> 851\u001b[0;31m         return self._input_request(str(prompt),\n\u001b[0m\u001b[1;32m    852\u001b[0m             \u001b[0mself\u001b[0m\u001b[0;34m.\u001b[0m\u001b[0m_parent_ident\u001b[0m\u001b[0;34m,\u001b[0m\u001b[0;34m\u001b[0m\u001b[0;34m\u001b[0m\u001b[0m\n\u001b[1;32m    853\u001b[0m             \u001b[0mself\u001b[0m\u001b[0;34m.\u001b[0m\u001b[0m_parent_header\u001b[0m\u001b[0;34m,\u001b[0m\u001b[0;34m\u001b[0m\u001b[0;34m\u001b[0m\u001b[0m\n",
            "\u001b[0;32m/usr/local/lib/python3.10/dist-packages/ipykernel/kernelbase.py\u001b[0m in \u001b[0;36m_input_request\u001b[0;34m(self, prompt, ident, parent, password)\u001b[0m\n\u001b[1;32m    893\u001b[0m             \u001b[0;32mexcept\u001b[0m \u001b[0mKeyboardInterrupt\u001b[0m\u001b[0;34m:\u001b[0m\u001b[0;34m\u001b[0m\u001b[0;34m\u001b[0m\u001b[0m\n\u001b[1;32m    894\u001b[0m                 \u001b[0;31m# re-raise KeyboardInterrupt, to truncate traceback\u001b[0m\u001b[0;34m\u001b[0m\u001b[0;34m\u001b[0m\u001b[0m\n\u001b[0;32m--> 895\u001b[0;31m                 \u001b[0;32mraise\u001b[0m \u001b[0mKeyboardInterrupt\u001b[0m\u001b[0;34m(\u001b[0m\u001b[0;34m\"Interrupted by user\"\u001b[0m\u001b[0;34m)\u001b[0m \u001b[0;32mfrom\u001b[0m \u001b[0;32mNone\u001b[0m\u001b[0;34m\u001b[0m\u001b[0;34m\u001b[0m\u001b[0m\n\u001b[0m\u001b[1;32m    896\u001b[0m             \u001b[0;32mexcept\u001b[0m \u001b[0mException\u001b[0m \u001b[0;32mas\u001b[0m \u001b[0me\u001b[0m\u001b[0;34m:\u001b[0m\u001b[0;34m\u001b[0m\u001b[0;34m\u001b[0m\u001b[0m\n\u001b[1;32m    897\u001b[0m                 \u001b[0mself\u001b[0m\u001b[0;34m.\u001b[0m\u001b[0mlog\u001b[0m\u001b[0;34m.\u001b[0m\u001b[0mwarning\u001b[0m\u001b[0;34m(\u001b[0m\u001b[0;34m\"Invalid Message:\"\u001b[0m\u001b[0;34m,\u001b[0m \u001b[0mexc_info\u001b[0m\u001b[0;34m=\u001b[0m\u001b[0;32mTrue\u001b[0m\u001b[0;34m)\u001b[0m\u001b[0;34m\u001b[0m\u001b[0;34m\u001b[0m\u001b[0m\n",
            "\u001b[0;31mKeyboardInterrupt\u001b[0m: Interrupted by user"
          ]
        }
      ]
    },
    {
      "cell_type": "code",
      "source": [
        "stages = ['''\n",
        "  +---+\n",
        "  |   |\n",
        "  O   |\n",
        " /|\\  |\n",
        " / \\  |\n",
        "      |\n",
        "=========\n",
        "''', '''\n",
        "  +---+\n",
        "  |   |\n",
        "  O   |\n",
        " /|\\  |\n",
        " /    |\n",
        "      |\n",
        "=========\n",
        "''', '''\n",
        "  +---+\n",
        "  |   |\n",
        "  O   |\n",
        " /|\\  |\n",
        "      |\n",
        "      |\n",
        "=========\n",
        "''', '''\n",
        "  +---+\n",
        "  |   |\n",
        "  O   |\n",
        " /|   |\n",
        "      |\n",
        "      |\n",
        "=========''', '''\n",
        "  +---+\n",
        "  |   |\n",
        "  O   |\n",
        "  |   |\n",
        "      |\n",
        "      |\n",
        "=========\n",
        "''', '''\n",
        "  +---+\n",
        "  |   |\n",
        "  O   |\n",
        "      |\n",
        "      |\n",
        "      |\n",
        "=========\n",
        "''', '''\n",
        "  +---+\n",
        "  |   |\n",
        "      |\n",
        "      |\n",
        "      |\n",
        "      |\n",
        "=========\n",
        "''']\n",
        "\n",
        "logo = '''\n",
        " _\n",
        "| |\n",
        "| |__   __ _ _ __   __ _ _ __ ___   __ _ _ __\n",
        "| '_ \\ / _` | '_ \\ / _` | '_ ` _ \\ / _` | '_ \\\n",
        "| | | | (_| | | | | (_| | | | | | | (_| | | | |\n",
        "|_| |_|\\__,_|_| |_|\\__, |_| |_| |_|\\__,_|_| |_|\n",
        "                    __/ |\n",
        "                   |___/    '''\n",
        "\n",
        "print(logo)"
      ],
      "metadata": {
        "colab": {
          "base_uri": "https://localhost:8080/"
        },
        "id": "8O_O1XZBJ3J3",
        "outputId": "14110133-769a-4d74-d1a2-f0b618f5382e"
      },
      "execution_count": 22,
      "outputs": [
        {
          "output_type": "stream",
          "name": "stdout",
          "text": [
            " \n",
            " _                                             \n",
            "| |                                            \n",
            "| |__   __ _ _ __   __ _ _ __ ___   __ _ _ __  \n",
            "| '_ \\ / _` | '_ \\ / _` | '_ ` _ \\ / _` | '_ \\ \n",
            "| | | | (_| | | | | (_| | | | | | | (_| | | | |\n",
            "|_| |_|\\__,_|_| |_|\\__, |_| |_| |_|\\__,_|_| |_|\n",
            "                    __/ |                      \n",
            "                   |___/    \n"
          ]
        }
      ]
    },
    {
      "cell_type": "code",
      "source": [],
      "metadata": {
        "id": "yaGI98r4cPeK"
      },
      "execution_count": null,
      "outputs": []
    }
  ],
  "metadata": {
    "colab": {
      "provenance": [],
      "authorship_tag": "ABX9TyMjbv/v+dHdxH1dg4+VzbNN",
      "include_colab_link": true
    },
    "kernelspec": {
      "display_name": "Python 3",
      "name": "python3"
    },
    "language_info": {
      "name": "python"
    }
  },
  "nbformat": 4,
  "nbformat_minor": 0
}